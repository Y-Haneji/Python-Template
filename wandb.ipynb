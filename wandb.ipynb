{
 "cells": [
  {
   "cell_type": "code",
   "execution_count": null,
   "metadata": {},
   "outputs": [],
   "source": [
    "config = {}"
   ]
  },
  {
   "cell_type": "code",
   "execution_count": null,
   "metadata": {},
   "outputs": [],
   "source": [
    "import wandb\n",
    "import torch"
   ]
  },
  {
   "cell_type": "code",
   "execution_count": null,
   "metadata": {},
   "outputs": [],
   "source": [
    "# wandbのセットアップ\n",
    "with open('../.secrets/wandb_key', 'r') as f:\n",
    "    api_key = f.readline().rstrip('\\n')\n",
    "wandb.login(key=api_key)\n",
    "run = wandb.init(\n",
    "    project='bachelor_research',\n",
    "    group='vae_assessment',\n",
    "    name=config['exp'],\n",
    "    # notes='',\n",
    "    config=config,\n",
    "    resume=True,  # False, 'auto'(True), 'must', 'allow'\n",
    "    )"
   ]
  },
  {
   "cell_type": "code",
   "execution_count": null,
   "metadata": {},
   "outputs": [],
   "source": [
    "# wandb artifact にデータセットを保存\n",
    "artifact = wandb.Artifact(name='dataset', type='dataset')\n",
    "artifact.add_dir('../data', name='data')  # nameでartifact内でのパス(ダウンロード時使う)を指定\n",
    "run.log_artifact(artifact)"
   ]
  },
  {
   "cell_type": "code",
   "execution_count": null,
   "metadata": {},
   "outputs": [],
   "source": [
    "checkpoint_path = f\"./checkpoint.pth.tar\"\n",
    "n_epochs = 100\n",
    "model = Model()\n",
    "optimizer = torch.optim.Adam(model.parameters(), lr=0.001)\n",
    "epoch = 0\n",
    "train_losses = []\n",
    "val_losses = []\n",
    "best_metric = -np.inf\n",
    "\n",
    "if wandb.run.resumed:\n",
    "    print('resume run by wandb.')\n",
    "    checkpoint = torch.load(wandb.restore(checkpoint_path))\n",
    "    model.load_state_dict(checkpoint['model_state_dict'])\n",
    "    optimizer.load_state_dict(checkpoint['optimizer_state_dict'])\n",
    "    epoch = checkpoint['epoch']\n",
    "    train_losses = checkpoint['train_losses']\n",
    "    val_losses = checkpoint['val_losses']\n",
    "    best_metric = checkpoint['best_metric']\n",
    "\n",
    "while epoch < n_epochs:\n",
    "    # ----------\n",
    "    # train here\n",
    "    # ----------\n",
    "\n",
    "    wandb.log({'train_loss': train_loss.item(), 'val_loss': val_loss.item()}, step=epoch+1)\n",
    "\n",
    "    epoch += 1\n",
    "\n",
    "    torch.save({\n",
    "        'model_state_dict': model.state_dict(),\n",
    "        'optimizer_state_dict': optimizer.state_dict(),\n",
    "        'epoch': epoch,\n",
    "        'train_losses': train_losses,\n",
    "        'val_losses': val_losses,\n",
    "        'best_metric': best_metric\n",
    "    }, checkpoint_path)\n",
    "\n",
    "    wandb.save(checkpoint_path)"
   ]
  },
  {
   "cell_type": "code",
   "execution_count": null,
   "metadata": {},
   "outputs": [],
   "source": [
    "wandb.run.summary[\"best_metric\"] = best_metric"
   ]
  },
  {
   "cell_type": "code",
   "execution_count": null,
   "metadata": {},
   "outputs": [],
   "source": [
    "# table = wandb.Table(columns=['image', 'label', 'predict', 'score'])\n",
    "# table.add_data(image, label, predict, score)\n",
    "# wandb.log({'predict_table': table})"
   ]
  },
  {
   "cell_type": "code",
   "execution_count": null,
   "metadata": {},
   "outputs": [],
   "source": [
    "wandb.alert(\n",
    "    title='Succeed',\n",
    "    text=f'EXP{config[\"exp\"]} has succeeded.',\n",
    "    level=wandb.AlertLevel.INFO)\n",
    "\n",
    "wandb.finish()"
   ]
  }
 ],
 "metadata": {
  "language_info": {
   "name": "python"
  },
  "orig_nbformat": 4
 },
 "nbformat": 4,
 "nbformat_minor": 2
}
